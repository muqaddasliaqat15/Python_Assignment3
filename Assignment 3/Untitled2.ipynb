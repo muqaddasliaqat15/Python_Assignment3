{
 "cells": [
  {
   "cell_type": "code",
   "execution_count": 1,
   "id": "1cc32450",
   "metadata": {},
   "outputs": [
    {
     "name": "stdout",
     "output_type": "stream",
     "text": [
      "Twinkle, twinkle, little star,\n",
      "\tHow I wonder what you are!\n",
      "\t\tUp above the world so high,\n",
      "\t\tLike a diamond in the sky.\n",
      "Twinkle, twinkle, little star,\n",
      "\tHow I wonder what you are\n"
     ]
    }
   ],
   "source": [
    "print(\"Twinkle, twinkle, little star,\")\n",
    "print(\"\\tHow I wonder what you are!\")\n",
    "print(\"\\t\\tUp above the world so high,\")\n",
    "print(\"\\t\\tLike a diamond in the sky.\")\n",
    "print(\"Twinkle, twinkle, little star,\")\n",
    "print(\"\\tHow I wonder what you are\")"
   ]
  },
  {
   "cell_type": "code",
   "execution_count": 2,
   "id": "692905ab",
   "metadata": {},
   "outputs": [
    {
     "name": "stdout",
     "output_type": "stream",
     "text": [
      "Python version you are using\n",
      "3.8.8 (default, Apr 13 2021, 15:08:03) [MSC v.1916 64 bit (AMD64)]\n",
      "Version information\n",
      "sys.version_info(major=3, minor=8, micro=8, releaselevel='final', serial=0)\n"
     ]
    }
   ],
   "source": [
    "import sys\n",
    "print(\"Python version you are using\")\n",
    "print (sys.version)\n",
    "print(\"Version information\")\n",
    "print (sys.version_info)\n"
   ]
  },
  {
   "cell_type": "code",
   "execution_count": 3,
   "id": "4adf969b",
   "metadata": {},
   "outputs": [
    {
     "name": "stdout",
     "output_type": "stream",
     "text": [
      "Current Date & Time\n",
      "2021-10-24 04:03:31\n"
     ]
    }
   ],
   "source": [
    "import datetime\n",
    "date_time = datetime.datetime.now()\n",
    "print (\"Current Date & Time\")\n",
    "print (date_time.strftime(\"%Y-%m-%d %H:%M:%S\"))"
   ]
  },
  {
   "cell_type": "code",
   "execution_count": 4,
   "id": "ec48a3c9",
   "metadata": {},
   "outputs": [
    {
     "name": "stdout",
     "output_type": "stream",
     "text": [
      "Enter radius of circle:\n",
      "88\n",
      "Area of Circle: 24316.16\n"
     ]
    }
   ],
   "source": [
    "print(\"Enter radius of circle:\")\n",
    "r=int(input())\n",
    "area=3.14*r*r\n",
    "print(\"Area of Circle:\",area)"
   ]
  },
  {
   "cell_type": "code",
   "execution_count": 5,
   "id": "da67182d",
   "metadata": {},
   "outputs": [
    {
     "name": "stdout",
     "output_type": "stream",
     "text": [
      "Enter first name:\n",
      "Muqaddas\n",
      "Enter last name:\n",
      "Liaqat\n",
      "Reversed Name: Liaqat   Muqaddas\n"
     ]
    }
   ],
   "source": [
    "\n",
    "print(\"Enter first name:\")\n",
    "fname=input()\n",
    "print(\"Enter last name:\")\n",
    "lname=input()\n",
    "print(\"Reversed Name:\",lname,\" \",fname)"
   ]
  },
  {
   "cell_type": "code",
   "execution_count": 6,
   "id": "36c63cff",
   "metadata": {},
   "outputs": [
    {
     "name": "stdout",
     "output_type": "stream",
     "text": [
      "Enter first value:2\n",
      "Enter second value:2\n",
      "2 + 2 = 4\n"
     ]
    }
   ],
   "source": [
    "x=int(input(\"Enter first value:\"))\n",
    "y=int(input(\"Enter second value:\"))\n",
    "print(x,\"+\",y,\"=\",x+y)\n"
   ]
  },
  {
   "cell_type": "code",
   "execution_count": 7,
   "id": "7f359db7",
   "metadata": {},
   "outputs": [
    {
     "name": "stdout",
     "output_type": "stream",
     "text": [
      "Enter marks of Mathematics20\n",
      "Enter marks of Islamiyat34\n",
      "Enter marks of English56\n",
      "Enter marks of Computer76\n",
      "Enter marks of Physics56\n",
      "F\n"
     ]
    }
   ],
   "source": [
    "mathematics=int(input(\"Enter marks of Mathematics\"))\n",
    "islamiyat=int(input(\"Enter marks of Islamiyat\"))\n",
    "english=int(input(\"Enter marks of English\"))\n",
    "computer=int(input(\"Enter marks of Computer\"))\n",
    "physics=int(input(\"Enter marks of Physics\"))\n",
    "total=500\n",
    "percentage=((mathematics+islamiyat+english+physics+computer)/total)*100\n",
    "if percentage>100 or percentage<0:\n",
    "    print(\"Invalid Percentage\")\n",
    "elif percentage>=90 and percentage<=100:\n",
    "    print(\"A+\")\n",
    "elif percentage>=80 and percentage<90:\n",
    "    print(\"A\")\n",
    "elif percentage >= 70 and percentage < 80:\n",
    "    print(\"B\")\n",
    "elif percentage>=60 and percentage<70:\n",
    "    print(\"C\")\n",
    "elif percentage>=50 and percentage<60:\n",
    "    print(\"D\")\n",
    "else:\n",
    "    print(\"F\")\n",
    "\n"
   ]
  },
  {
   "cell_type": "code",
   "execution_count": 8,
   "id": "706c62b0",
   "metadata": {},
   "outputs": [
    {
     "name": "stdout",
     "output_type": "stream",
     "text": [
      "Enter a number:2\n",
      "2  is even\n"
     ]
    }
   ],
   "source": [
    "num=int(input(\"Enter a number:\"))\n",
    "if num%2==0:\n",
    "    print(num,\" is even\")\n",
    "else:\n",
    "    print(num,\" is odd\")"
   ]
  },
  {
   "cell_type": "code",
   "execution_count": 9,
   "id": "cc362f33",
   "metadata": {},
   "outputs": [
    {
     "name": "stdout",
     "output_type": "stream",
     "text": [
      "List items are:  ['ali', 'ahmad', 2, 'rehan', 4, 'mariam']\n",
      "Lenght of List  6\n"
     ]
    }
   ],
   "source": [
    "myList=[\"ali\",\"ahmad\",2,\"rehan\",4,\"mariam\"]\n",
    "print(\"List items are: \",myList)\n",
    "print(\"Lenght of List \", len(myList))"
   ]
  },
  {
   "cell_type": "code",
   "execution_count": 10,
   "id": "cf22fb3a",
   "metadata": {},
   "outputs": [
    {
     "name": "stdout",
     "output_type": "stream",
     "text": [
      "List Numbers are: [1, 2, 3, 4, 5]\n",
      "Sum is: 15\n"
     ]
    }
   ],
   "source": [
    "myList=[1,2,3,4,5]\n",
    "print(\"List Numbers are:\",myList)\n",
    "sum=0\n",
    "for i in myList:\n",
    "    sum=sum+i\n",
    "print(\"Sum is:\",sum)"
   ]
  },
  {
   "cell_type": "code",
   "execution_count": 11,
   "id": "0dc75b50",
   "metadata": {},
   "outputs": [
    {
     "name": "stdout",
     "output_type": "stream",
     "text": [
      "List items are:  [11, 2, 21, 22, 21, 6, 7, 10]\n",
      "Largest number is  22\n"
     ]
    }
   ],
   "source": [
    "myList=[11,2,21,22,21,6,7,10]\n",
    "print(\"List items are: \",myList)\n",
    "max=myList[0]\n",
    "for i in myList:\n",
    "    if i>=max:\n",
    "        max=i\n",
    "print(\"Largest number is \",max)"
   ]
  },
  {
   "cell_type": "code",
   "execution_count": 12,
   "id": "d961bc0d",
   "metadata": {},
   "outputs": [
    {
     "name": "stdout",
     "output_type": "stream",
     "text": [
      "Elements less than 5\n",
      "0\n",
      "1\n",
      "3\n",
      "4\n"
     ]
    }
   ],
   "source": [
    "myList=[0,1,3,4,5,6,9,10,13]\n",
    "print(\"Elements less than 5\")\n",
    "for i in myList:\n",
    "    if i<5:\n",
    "        print(i)"
   ]
  },
  {
   "cell_type": "code",
   "execution_count": null,
   "id": "4c919cb9",
   "metadata": {},
   "outputs": [],
   "source": []
  }
 ],
 "metadata": {
  "kernelspec": {
   "display_name": "Python 3",
   "language": "python",
   "name": "python3"
  },
  "language_info": {
   "codemirror_mode": {
    "name": "ipython",
    "version": 3
   },
   "file_extension": ".py",
   "mimetype": "text/x-python",
   "name": "python",
   "nbconvert_exporter": "python",
   "pygments_lexer": "ipython3",
   "version": "3.8.8"
  }
 },
 "nbformat": 4,
 "nbformat_minor": 5
}
